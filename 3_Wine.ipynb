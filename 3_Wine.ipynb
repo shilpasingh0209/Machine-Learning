{
 "cells": [
  {
   "cell_type": "code",
   "execution_count": 3,
   "metadata": {},
   "outputs": [
    {
     "name": "stdout",
     "output_type": "stream",
     "text": [
      "Predicted labels from SVM: \n",
      " [ 3.  1.  2.  3.  1.  2.  3.  2.  3.  2.  1.  1.  3.  2.  1.  1.  1.  2.\n",
      "  2.  2.  2.  1.  2.  2.  2.  1.  2.  2.  1.  1.  1.  3.  1.  2.  3.  2.\n",
      "  2.  1.  3.  2.  2.  2.  1.  3.  2.  2.  1.  3.  3.  2.  3.  2.  2.  2.\n",
      "  3.  1.  1.  2.]\n"
     ]
    }
   ],
   "source": [
    "import numpy as np\n",
    "import matplotlib.pyplot as plt\n",
    "import sklearn\n",
    "from sklearn import svm, preprocessing\n",
    "from sklearn.ensemble import RandomForestClassifier\n",
    "\n",
    "wine_train = np.loadtxt('wine.train',delimiter=',')\n",
    "wine_test= np.loadtxt('wine.test',delimiter=',')\n",
    "\n",
    "train_x = wine_train[:, 1:]\n",
    "train_y  = wine_train[:,0]\n",
    "\n",
    "test_x=wine_test[:, 1:]\n",
    "test_y=wine_test[:,0]\n",
    "\n",
    "SVMmodel = svm.SVC()\n",
    "SVMmodel.fit(train_x,train_y)\n",
    "SVMmodel.score(test_x,test_y)\n",
    "\n",
    "RFmodel = RandomForestClassifier(n_estimators=10)\n",
    "RFmodel.fit(train_x,train_y)\n",
    "RFmodel.score(test_x,test_y)\n",
    "\n",
    "SVMpredicted_y=SVMmodel.predict(test_x)\n",
    "RFpredicted_y=RFmodel.predict(test_x)\n",
    "\n",
    "print(\"Predicted labels from SVM: \\n\",SVMpredicted_y)\n",
    "#print(\"Predicted labels from RF: \\n\",RFpredicted_y)\n",
    "np.savetxt(\"SVMpredicted_y.csv\",SVMpredicted_y,delimeter=',')"
   ]
  },
  {
   "cell_type": "code",
   "execution_count": null,
   "metadata": {},
   "outputs": [],
   "source": []
  }
 ],
 "metadata": {
  "kernelspec": {
   "display_name": "Python 3",
   "language": "python",
   "name": "python3"
  },
  "language_info": {
   "codemirror_mode": {
    "name": "ipython",
    "version": 3
   },
   "file_extension": ".py",
   "mimetype": "text/x-python",
   "name": "python",
   "nbconvert_exporter": "python",
   "pygments_lexer": "ipython3",
   "version": "3.6.3"
  }
 },
 "nbformat": 4,
 "nbformat_minor": 2
}
