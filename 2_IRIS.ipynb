{
 "cells": [
  {
   "cell_type": "code",
   "execution_count": null,
   "metadata": {},
   "outputs": [],
   "source": [
    "import numpy as np\n",
    "import matplotlib.pyplot as plt\n",
    "import random\n",
    "import sklearn \n",
    "from sklearn.ensemble import RandomForestClassifier\n",
    "from sklearn import svm,model_selection\n",
    "from sklearn.cross_validation import cross_val_score\n",
    "from sklearn.linear_model import LogisticRegression\n",
    "\n",
    "iris_data = np.loadtxt('iris.data',delimiter=',')\n",
    "print(iris_data.shape)\n",
    "\n",
    "\n",
    "feature_names = np.genfromtxt('feature_names.txt', \\\n",
    "                              delimiter=',', dtype='str')\n",
    "feature_names = np.delete(feature_names,-1)\n",
    "target_names = np.genfromtxt('target_names.txt', \\\n",
    "                             delimiter=',', dtype='str')"
   ]
  },
  {
   "cell_type": "code",
   "execution_count": null,
   "metadata": {},
   "outputs": [],
   "source": [
    "random.choice(features)\n",
    "#k=int(input(\"How many folds do you want?\"))\n",
    "k=10\n",
    "f=np.array_split(features,k)\n",
    "t=np.array_split(target,k)\n",
    "\n",
    "print(\"f\",np.shape(f))\n",
    "print(\"t\",np.shape(t))\n",
    "    \n",
    "\n",
    "X1 = []\n",
    "for i in range(k):\n",
    "    j = i\n",
    "    for temp in f:\n",
    "        #X1.extend(temp.tolist())\n",
    "        if len(X1)!=0:\n",
    "            X1 = np.concatenate((X1,temp.tolist()))\n",
    "        else:\n",
    "            X1 = np.concatenate(temp.tolist())\n",
    "            X1 = np.reshape(X1, (15, 4))\n",
    "    f.pop(j)\n",
    "    test_x = f.pop(j)\n",
    "    train_x = X1\n",
    "    \n",
    "    \n",
    "    for temp1 in t:\n",
    "        Y1 = np.concatenate((temp1, np.array([], float)))\n",
    "    t.pop(j)\n",
    "    test_y = t.pop(j)\n",
    "    y1 = np.reshape(Y1, (15))\n",
    "    train_y = Y1\n",
    "    \n",
    "    print(\"train_x\",np.shape(train_x))\n",
    "    print(\"train_y\",np.shape(train_y))\n",
    "    print(\"test_x\",np.shape(test_x))\n",
    "    print(\"test_y\",np.shape(test_y))\n",
    "    \n",
    "    rf = RandomForestClassifier(max_depth=2, random_state=0)\n",
    "    rf.fit(train_x, train_y)\n",
    "    CalMean = np.array(rf.score(test_x, test_y))\n",
    "\n",
    "print(\"Accuracy is:\", np.mean(CalMean))"
   ]
  },
  {
   "cell_type": "code",
   "execution_count": 28,
   "metadata": {},
   "outputs": [
    {
     "name": "stdout",
     "output_type": "stream",
     "text": [
      "Accuracy Cross Val using SVM  97.0833333333\n",
      "Accuracy Cross Val using RF 95.0\n"
     ]
    }
   ],
   "source": [
    "#Cross Validation Function Accuracy\n",
    "svm_func=svm.SVC()\n",
    "SVMaccuracy = cross_val_score(svm_func,features,target,scoring=\"accuracy\",cv=40) . mean() * 100\n",
    "print(\"Accuracy Cross Val using SVM \", SVMaccuracy)\n",
    "    \n",
    "rf_func = RandomForestClassifier(n_estimators=10)\n",
    "RFaccuracy = cross_val_score(rf_func,features,target,scoring=\"accuracy\",cv=40) . mean() * 100\n",
    "print(\"Accuracy Cross Val using RF\", RFaccuracy)"
   ]
  },
  {
   "cell_type": "code",
   "execution_count": null,
   "metadata": {},
   "outputs": [],
   "source": [
    "import random\n",
    "\n",
    "feature_ = iris_data[:, 0:4]\n",
    "target_   = iris_data[:, 4]\n",
    "size      = np.shape(feature_)[0]\n",
    "idx       = range(size)\n",
    "\n",
    "feature  = feature_[idx,:]\n",
    "target   = target_[idx]\n",
    "\n",
    "k=int(input(\"How many folds do you want?\"))\n",
    "f=np.array_split(f1,k)\n",
    "t=np.array_split(t1,k)\n",
    "\n",
    "for i in range(k):\n",
    "    j=i\n",
    "    for temp in f:\n",
    "        X1=np.concatenate(temp)\n",
    "        X1=np.reshape(X1,(15,4))        \n",
    "    test_x = f.pop(j)\n",
    "    train_x = X1\n",
    "    for temp1 in t:\n",
    "        Y1 = np.concatenate((temp1, np.array([], float)))\n",
    "    test_y = t.pop(j)\n",
    "    y1=np.reshape(Y1,(15))\n",
    "    train_y = Y1\n",
    "    \n",
    "    rf = RandomForestClassifier(max_depth=2, random_state=0)\n",
    "    rf.fit(train_x,train_y)\n",
    "    rf.score(test_x,test_y)\n",
    "\n",
    "CalMean=np.array(rf.score(test_x,test_y))\n",
    "\n",
    "Print(\"Accuracy is:\",np.mean(CalMean))"
   ]
  },
  {
   "cell_type": "code",
   "execution_count": null,
   "metadata": {},
   "outputs": [],
   "source": []
  }
 ],
 "metadata": {
  "kernelspec": {
   "display_name": "Python 3",
   "language": "python",
   "name": "python3"
  },
  "language_info": {
   "codemirror_mode": {
    "name": "ipython",
    "version": 3
   },
   "file_extension": ".py",
   "mimetype": "text/x-python",
   "name": "python",
   "nbconvert_exporter": "python",
   "pygments_lexer": "ipython3",
   "version": "3.6.3"
  }
 },
 "nbformat": 4,
 "nbformat_minor": 2
}
