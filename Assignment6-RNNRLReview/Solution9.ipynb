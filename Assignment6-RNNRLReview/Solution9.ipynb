{
 "cells": [
  {
   "cell_type": "markdown",
   "metadata": {},
   "source": [
    "In this task we are implementing reinforcement learning using neural network to solve a linear maze problem."
   ]
  },
  {
   "cell_type": "code",
   "execution_count": 1,
   "metadata": {},
   "outputs": [],
   "source": [
    "import numpy as np\n",
    "import random\n",
    "import tensorflow as tf\n",
    "import matplotlib.pyplot as plt\n",
    "from numpy import linalg as LA\n",
    "\n",
    "#From manuscript\n",
    "def rho(s,a):\n",
    "    return(s==1 and a==0)+2*(s==3 and a==1)\n",
    "def tau(s,a):\n",
    "    if s==0 or s==4:  return(s)\n",
    "    else:      return(s+a)\n",
    "def calc_policy(Q):\n",
    "    policy=np.zeros(5)\n",
    "    for s in range(0,5):\n",
    "        action_idx=np.argmax(Q[s,:])\n",
    "        policy[s]=2*action_idx-1\n",
    "        policy[0]=policy[4]=0\n",
    "    return policy.astype(int)\n",
    "def idx(a):\n",
    "    return(int((a+1)/2))"
   ]
  },
  {
   "cell_type": "code",
   "execution_count": 2,
   "metadata": {},
   "outputs": [],
   "source": [
    "#Feed forward part of th network\n",
    "W = tf.Variable(tf.random_uniform([5,2],0,0.01))  #Weight\n",
    "inp = tf.placeholder(shape=[1,5],dtype=tf.float32)  #Input\n",
    "Q = tf.matmul(inp,W)\n",
    "\n",
    "pred = tf.argmax(Q,1)\n",
    "nextQ = tf.placeholder(shape=[1,2],dtype=tf.float32)\n",
    "netLoss = tf.reduce_sum(tf.square(nextQ - Q))\n",
    "\n",
    "train = tf.train.GradientDescentOptimizer(learning_rate=0.1)\n",
    "upMod = train.minimize(netLoss)"
   ]
  },
  {
   "cell_type": "markdown",
   "metadata": {},
   "source": [
    "Action Description<br>\n",
    "1:Left | -1:Right | 0:Stay"
   ]
  },
  {
   "cell_type": "code",
   "execution_count": 3,
   "metadata": {},
   "outputs": [
    {
     "name": "stdout",
     "output_type": "stream",
     "text": [
      "The Best Policy is [0 1 1 1 0]\n"
     ]
    }
   ],
   "source": [
    "init = tf.global_variables_initializer()\n",
    "\n",
    "#Initializing learning paramters\n",
    "valuefunc = np.array([[0.0,1.0,0.5,0.5,0.0],[0.0,0.5,1.0,2.0,0.0]])\n",
    "num_episodes = 400\n",
    "gamma = .05 #discount factor\n",
    "e = 0.1\n",
    "loss = []\n",
    "with tf.Session() as sess:\n",
    "    sess.run(init)\n",
    "    for i in range(num_episodes):\n",
    "        s = np.random.randint(0,5) #state\n",
    "\n",
    "        k = 0\n",
    "        for k in range(5):\n",
    "            #Action and allQ\n",
    "            action,Qs = sess.run([pred,Q],feed_dict={inp:np.identity(5)[s:s+1]}) \n",
    "            NewState = tau(s,action[0])\n",
    "            \n",
    "            #Q fucntion value of new state\n",
    "            Q1 = sess.run(Q,feed_dict={inp:np.identity(5)[NewState:NewState+1]})\n",
    "            \n",
    "            #max  Q value\n",
    "            maxQ1 = np.max(Q1)\n",
    "            targetQ = Qs\n",
    "            reward = rho(s,action[0])\n",
    "            targetQ[0,action[0]] = reward + gamma*maxQ1\n",
    "            sess.run([upMod,W],feed_dict={inp:np.identity(5)[s:s+1],nextQ:targetQ})\n",
    "            s = NewState\n",
    "            k+=1\n",
    "            \n",
    "        #Calculating loss functioin\n",
    "        loss.append(LA.norm(tf.global_variables()[0].eval().T-valuefunc)) \n",
    "    p = calc_policy(tf.global_variables()[0].eval())\n",
    "    print('The Best Policy is '+str(p))"
   ]
  },
  {
   "cell_type": "code",
   "execution_count": 4,
   "metadata": {
    "scrolled": true
   },
   "outputs": [
    {
     "data": {
      "image/png": "[encoded data removed]",
      "text/plain": [
       "<matplotlib.figure.Figure at 0x1b8bf151668>"
      ]
     },
     "metadata": {},
     "output_type": "display_data"
    }
   ],
   "source": [
    "plt.title('Learning Cost Function')\n",
    "plt.xlabel('Episodes')\n",
    "plt.ylabel('Loss')\n",
    "plt.plot(loss)\n",
    "plt.show()"
   ]
  },
  {
   "cell_type": "markdown",
   "metadata": {},
   "source": [
    "Reference <br>\n",
    "https://medium.com/emergent-future/simple-reinforcement-learning-with-tensorflow-part-0-q-learning-with-tables-and-neural-networks-d195264329d0"
   ]
  }
 ],
 "metadata": {
  "kernelspec": {
   "display_name": "Python 3",
   "language": "python",
   "name": "python3"
  },
  "language_info": {
   "codemirror_mode": {
    "name": "ipython",
    "version": 3
   },
   "file_extension": ".py",
   "mimetype": "text/x-python",
   "name": "python",
   "nbconvert_exporter": "python",
   "pygments_lexer": "ipython3",
   "version": "3.5.4"
  }
 },
 "nbformat": 4,
 "nbformat_minor": 2
}
